{
 "cells": [
  {
   "cell_type": "code",
   "execution_count": 3,
   "id": "8ef9f540",
   "metadata": {},
   "outputs": [
    {
     "name": "stdout",
     "output_type": "stream",
     "text": [
      "First value: 3\n",
      "Second value: 3\n",
      "Addition is: 6 Sub is: 0 Multiplication is: 9 Div is: 1.0 floor div is: 1 Reminder is: 0\n"
     ]
    }
   ],
   "source": [
    "#Addition subtraction multiplication & division\n",
    "\n",
    "a=int(input('First value: '))\n",
    "b=int(input('Second value: '))\n",
    "c=a+b\n",
    "d=a-b\n",
    "e=a*b\n",
    "f=a/b\n",
    "g=a//b\n",
    "h=a%b\n",
    "print('Addition is:',c,'Sub is:',d,'Multiplication is:',e,'Div is:',f,'floor div is:',g,'Reminder is:',h)"
   ]
  },
  {
   "cell_type": "code",
   "execution_count": 2,
   "id": "de76be60",
   "metadata": {},
   "outputs": [
    {
     "name": "stdout",
     "output_type": "stream",
     "text": [
      "Enter side of square: 4\n",
      "Area is: 16\n"
     ]
    }
   ],
   "source": [
    "#Area of Square\n",
    "\n",
    "side=int(input('Enter side of square: '))\n",
    "area=side*side\n",
    "print('Area is:',area)"
   ]
  },
  {
   "cell_type": "code",
   "execution_count": 2,
   "id": "b3ca365c",
   "metadata": {},
   "outputs": [
    {
     "name": "stdout",
     "output_type": "stream",
     "text": [
      "Enter radius: 3\n",
      "Area of circle:  28.274333882308138\n"
     ]
    }
   ],
   "source": [
    "#area of circle\n",
    "from math import pi\n",
    "r=int(input('Enter radius: '))\n",
    "area=pi*r*r\n",
    "print('Area of circle: ',area)"
   ]
  },
  {
   "cell_type": "code",
   "execution_count": 4,
   "id": "8480d672",
   "metadata": {},
   "outputs": [
    {
     "name": "stdout",
     "output_type": "stream",
     "text": [
      "Enter base:12\n",
      "Enter height:9\n",
      "Area of Triangle= 54.0\n"
     ]
    }
   ],
   "source": [
    "#Area of Triangle\n",
    "\n",
    "b=int(input('Enter base:'))\n",
    "h=int(input('Enter height:'))\n",
    "area=0.5*b*h\n",
    "print('Area of Triangle=',area)"
   ]
  },
  {
   "cell_type": "code",
   "execution_count": 5,
   "id": "027c18cb",
   "metadata": {},
   "outputs": [
    {
     "name": "stdout",
     "output_type": "stream",
     "text": [
      "Enter height:4\n",
      "Enter width:8\n",
      "Area of Rectangle= 32\n"
     ]
    }
   ],
   "source": [
    "#Area of Reactangle\n",
    "\n",
    "h=int(input('Enter height:'))\n",
    "w=int(input('Enter width:'))\n",
    "area=h*w\n",
    "print('Area of Rectangle=',area)"
   ]
  },
  {
   "cell_type": "code",
   "execution_count": 1,
   "id": "6cf466c7",
   "metadata": {},
   "outputs": [
    {
     "name": "stdout",
     "output_type": "stream",
     "text": [
      "Enter any alphabet: h\n",
      "Lowercase\n"
     ]
    }
   ],
   "source": [
    "#Check alphabate is in uppercase or lowercase\n",
    "\n",
    "ch=(input('Enter any alphabet: '))\n",
    "if ch>='A' and ch<='Z':\n",
    "    print('Uppercase')\n",
    "elif ch>='a' and ch<='z':\n",
    "    print('Lowercase')\n",
    "else:\n",
    "    print('Invalid input')\n"
   ]
  },
  {
   "cell_type": "code",
   "execution_count": 2,
   "id": "1594e60b",
   "metadata": {},
   "outputs": [
    {
     "name": "stdout",
     "output_type": "stream",
     "text": [
      "Enter value:98\n",
      "Enter value:89\n",
      "Enter value:95\n",
      "Enter value:96\n",
      "Enter value:90\n",
      "Enter value:94\n",
      "Average=  93.66666666666667\n"
     ]
    }
   ],
   "source": [
    "#Average\n",
    "\n",
    "p=int(input('Enter value:'))\n",
    "q=int(input('Enter value:'))\n",
    "r=int(input('Enter value:'))\n",
    "s=int(input('Enter value:'))\n",
    "t=int(input('Enter value:'))\n",
    "u=int(input('Enter value:'))\n",
    "avg=(p+q+r+s+t+u)/6\n",
    "print('Average= ',avg)"
   ]
  },
  {
   "cell_type": "code",
   "execution_count": 8,
   "id": "f6455c7b",
   "metadata": {},
   "outputs": [
    {
     "name": "stdout",
     "output_type": "stream",
     "text": [
      "Enter principle:15000\n",
      "Enter rate of interest:12.5\n",
      "Enter time5\n",
      "Simple Interest=  9375.0\n"
     ]
    }
   ],
   "source": [
    "p=int(input('Enter principle:'))\n",
    "r=float(input('Enter rate of interest:'))\n",
    "t=int(input('Enter time'))\n",
    "si=(p*r*t)/100\n",
    "print('Simple Interest= ',si)"
   ]
  },
  {
   "cell_type": "code",
   "execution_count": 9,
   "id": "2af3c92e",
   "metadata": {},
   "outputs": [
    {
     "name": "stdout",
     "output_type": "stream",
     "text": [
      "Before swapping a = 10 & b = 30\n",
      "After Swapping a = 30 and b = 10\n"
     ]
    }
   ],
   "source": [
    "a=10\n",
    "b=30\n",
    "print('Before swapping a = 10 & b = 30')\n",
    "c=a\n",
    "a=b\n",
    "b=c\n",
    "print('After Swapping a =',a,'and b =',b)"
   ]
  },
  {
   "cell_type": "code",
   "execution_count": 10,
   "id": "7e932af1",
   "metadata": {},
   "outputs": [
    {
     "name": "stdout",
     "output_type": "stream",
     "text": [
      "Enter value: 89\n",
      "Enter value: 56\n",
      "89 is greater than 56\n"
     ]
    }
   ],
   "source": [
    "#Greater value in two numbers\n",
    "\n",
    "a=int(input('Enter value: '))\n",
    "b=int(input('Enter value: '))\n",
    "if a>b:\n",
    "    print(a,'is greater than',b)\n",
    "else:\n",
    "    print(b,'is greater than',a)"
   ]
  },
  {
   "cell_type": "code",
   "execution_count": 11,
   "id": "215c0e2d",
   "metadata": {},
   "outputs": [
    {
     "name": "stdout",
     "output_type": "stream",
     "text": [
      "Enter value: 489\n",
      "Enter value: 5689\n",
      "Enter value: 2356\n",
      "5689 is greater than 489 and 2356\n"
     ]
    }
   ],
   "source": [
    "#Greater value in three numbers\n",
    "\n",
    "a=int(input('Enter value: '))\n",
    "b=int(input('Enter value: '))\n",
    "c=int(input('Enter value: '))\n",
    "if a>b and a>c:\n",
    "    print(a,'is greater than',b,'and',c)\n",
    "if b>a and b>c:\n",
    "     print(b,'is greater than',a,'and',c)\n",
    "if c>a and c>b:\n",
    "     print(c,'is greater than',b,'and',c)"
   ]
  },
  {
   "cell_type": "code",
   "execution_count": 12,
   "id": "4940db44",
   "metadata": {},
   "outputs": [
    {
     "name": "stdout",
     "output_type": "stream",
     "text": [
      "Enter value1\n",
      "1 is positive\n"
     ]
    }
   ],
   "source": [
    "#check given number is positive negative or zero\n",
    "\n",
    "x=int(input('Enter value'))\n",
    "if x>0:\n",
    "    print(x,'is positive')\n",
    "if x<0:\n",
    "    print(x,'is negative')\n",
    "if x==0:\n",
    "    print(x,'is zero')"
   ]
  },
  {
   "cell_type": "code",
   "execution_count": 13,
   "id": "fbf0da15",
   "metadata": {},
   "outputs": [
    {
     "name": "stdout",
     "output_type": "stream",
     "text": [
      "Enter any number: 59\n",
      "59 is odd number\n"
     ]
    }
   ],
   "source": [
    "#Even odd \n",
    "\n",
    "no=int(input('Enter any number: '))\n",
    "if no%2==0:\n",
    "    print(no,'is even number')\n",
    "else:\n",
    "    print(no,'is odd number')"
   ]
  },
  {
   "cell_type": "code",
   "execution_count": 8,
   "id": "17d2fe61",
   "metadata": {},
   "outputs": [
    {
     "name": "stdout",
     "output_type": "stream",
     "text": [
      "Enter your age: 5\n",
      "candidate is not eligible for voting\n"
     ]
    }
   ],
   "source": [
    "#voting program\n",
    "\n",
    "age=int(input('Enter your age: '))\n",
    "if age>=18:\n",
    "    print('candidate is eigible for voting')\n",
    "else:\n",
    "    print('candidate is not eligible for voting')"
   ]
  },
  {
   "cell_type": "code",
   "execution_count": 15,
   "id": "0696c30b",
   "metadata": {},
   "outputs": [
    {
     "name": "stdout",
     "output_type": "stream",
     "text": [
      "Enter any character:L\n",
      "Consonent\n"
     ]
    }
   ],
   "source": [
    "#Check alphabet is vowel or consonent\n",
    "\n",
    "A=input('Enter any character:')\n",
    "if A.lower() in ('a','e','i','o','u'):\n",
    "    print('Vowel')\n",
    "elif A.upper() in ('A','E','I','O','U'):\n",
    "    print('Consonent')\n",
    "else:\n",
    "    print('Consonent')"
   ]
  },
  {
   "cell_type": "code",
   "execution_count": 16,
   "id": "f31878a4",
   "metadata": {},
   "outputs": [
    {
     "name": "stdout",
     "output_type": "stream",
     "text": [
      "Enter any alphabet: o\n",
      "Lowercase\n"
     ]
    }
   ],
   "source": [
    "#Ckeck alphabet is uppercase or lowercase\n",
    "\n",
    "ch=input('Enter any alphabet: ')\n",
    "if ch>='A' and ch<='Z':\n",
    "    print('Uppercase')\n",
    "if ch>='a' and ch<='z':\n",
    "     print('Lowercase')   "
   ]
  },
  {
   "cell_type": "code",
   "execution_count": 17,
   "id": "6ae64ffe",
   "metadata": {},
   "outputs": [
    {
     "name": "stdout",
     "output_type": "stream",
     "text": [
      "Enter first angle: 9\n",
      "Enter second angle: 8\n",
      "Enter third angle: 3\n",
      "triangle is not valid\n"
     ]
    }
   ],
   "source": [
    "#Check triangle is valid or not\n",
    "\n",
    "a1=float(input('Enter first angle: '))\n",
    "a2=float(input('Enter second angle: '))\n",
    "a3=float(input('Enter third angle: '))\n",
    "if (a1+a2+a3)==180:\n",
    "    print('Triangle is valid')\n",
    "else:\n",
    "    print('triangle is not valid')"
   ]
  },
  {
   "cell_type": "code",
   "execution_count": 18,
   "id": "afe12159",
   "metadata": {},
   "outputs": [
    {
     "name": "stdout",
     "output_type": "stream",
     "text": [
      "Enter selling price : 800\n",
      "Enter cost price : 560\n",
      "₹ 240 is profit\n"
     ]
    }
   ],
   "source": [
    "#PROFIT OR LOSS\n",
    "\n",
    "sp=int(input('Enter selling price : '))\n",
    "cp=int(input('Enter cost price : '))\n",
    "if sp>cp:\n",
    "    profit=sp-cp\n",
    "    print('₹',profit,'is profit')\n",
    "else:\n",
    "    loss=cp-sp\n",
    "    print('₹',loss,'is loss')"
   ]
  },
  {
   "cell_type": "code",
   "execution_count": 19,
   "id": "02e58bc0",
   "metadata": {},
   "outputs": [
    {
     "name": "stdout",
     "output_type": "stream",
     "text": [
      "Enter your percentage : 95\n",
      "Distinction\n"
     ]
    }
   ],
   "source": [
    "#Show result according to percent\n",
    "\n",
    "p=float(input('Enter your percentage : '))\n",
    "if p>=75:\n",
    "    print('Distinction')\n",
    "elif p>=60:\n",
    "    print('First division')\n",
    "elif p>=45:\n",
    "    print('Second division')\n",
    "elif p>=33:\n",
    "    print('Third division')\n",
    "else:\n",
    "    print('Fail')"
   ]
  },
  {
   "cell_type": "code",
   "execution_count": 20,
   "id": "1b2fedd4",
   "metadata": {},
   "outputs": [
    {
     "name": "stdout",
     "output_type": "stream",
     "text": [
      "Enter any character-\n",
      "- is symbole\n"
     ]
    }
   ],
   "source": [
    "#CHECK GIVEN CHARACTER IS ALPHABET OR DIGIT OR SYMBOLE\n",
    "\n",
    "ch=input('Enter any character')\n",
    "if ch>='A' and ch<='Z' or ch>='a' and ch<='z':\n",
    "    print(ch,'is alphabet')\n",
    "elif ch.isdigit():\n",
    "    print(ch,'is digit')\n",
    "else:\n",
    "    print(ch,'is symbole')"
   ]
  },
  {
   "cell_type": "code",
   "execution_count": 29,
   "id": "02c6f7de",
   "metadata": {},
   "outputs": [
    {
     "name": "stdout",
     "output_type": "stream",
     "text": [
      "The Black car has 20000 miles\n",
      "The Red car has 15000 miles\n"
     ]
    }
   ],
   "source": [
    "#Object oriented programs\n",
    "\n",
    "class car:\n",
    "    def __init__(self,color,milage):\n",
    "        self.color=color\n",
    "        self.milage=milage\n",
    "\n",
    "b=car(color='Black',milage=20000)\n",
    "b1=car(color='Red',milage=15000)\n",
    "\n",
    "for car in(b,b1):\n",
    "    print('The',car.color,'car has',car.milage,'miles')"
   ]
  },
  {
   "cell_type": "code",
   "execution_count": 10,
   "id": "c2553f71",
   "metadata": {},
   "outputs": [
    {
     "name": "stdout",
     "output_type": "stream",
     "text": [
      "pi = 3.141592653589793\n"
     ]
    }
   ],
   "source": [
    "import math\n",
    "print('pi =',pi)"
   ]
  },
  {
   "cell_type": "code",
   "execution_count": 9,
   "id": "5959a86f",
   "metadata": {},
   "outputs": [
    {
     "name": "stdout",
     "output_type": "stream",
     "text": [
      "pi = 3.141592653589793\n"
     ]
    }
   ],
   "source": [
    "from math import*\n",
    "print('pi =',pi)"
   ]
  },
  {
   "cell_type": "code",
   "execution_count": 20,
   "id": "7add8b62",
   "metadata": {},
   "outputs": [
    {
     "name": "stdout",
     "output_type": "stream",
     "text": [
      "Enter value0\n",
      "0 is equal to number\n"
     ]
    }
   ],
   "source": [
    "no=int(input('Enter value:-'))\n",
    "if no>0:\n",
    "    print(no,'is positive number')\n",
    "elif no<0:\n",
    "    print(no,'is negative number')\n",
    "else:\n",
    "    no=0\n",
    "    print(no,'is equal to number')"
   ]
  },
  {
   "cell_type": "code",
   "execution_count": 22,
   "id": "46786a2c",
   "metadata": {},
   "outputs": [
    {
     "name": "stdout",
     "output_type": "stream",
     "text": [
      "Enter value:-10\n"
     ]
    }
   ],
   "source": [
    "num=int(input('Enter value:-'))\n",
    "if num<0:\n",
    "    print('a')"
   ]
  },
  {
   "cell_type": "code",
   "execution_count": 24,
   "id": "416e1490",
   "metadata": {},
   "outputs": [
    {
     "name": "stdout",
     "output_type": "stream",
     "text": [
      "Addition= 40\n"
     ]
    }
   ],
   "source": [
    "def add(a,b):                                  #Function: User defined functions\n",
    "    print('Addition=',a+b)\n",
    "add(10,30)"
   ]
  },
  {
   "cell_type": "code",
   "execution_count": 25,
   "id": "c8100166",
   "metadata": {},
   "outputs": [
    {
     "name": "stdout",
     "output_type": "stream",
     "text": [
      "Hi my name is Namrata & I am 22 years old\n"
     ]
    }
   ],
   "source": [
    "def function(name,age):\n",
    "    print('Hi my name is',name,'& I am',age,'years old')\n",
    "function('Namrata',22)"
   ]
  },
  {
   "cell_type": "code",
   "execution_count": 27,
   "id": "4553e190",
   "metadata": {},
   "outputs": [
    {
     "name": "stdout",
     "output_type": "stream",
     "text": [
      "8\n"
     ]
    }
   ],
   "source": [
    "def sub(a,b):\n",
    "    return (a-b)\n",
    "print(sub(10,2))"
   ]
  },
  {
   "cell_type": "code",
   "execution_count": 39,
   "id": "be656fec",
   "metadata": {},
   "outputs": [
    {
     "name": "stdout",
     "output_type": "stream",
     "text": [
      "negative\n"
     ]
    }
   ],
   "source": [
    "def function(no):\n",
    "    if no>=0:\n",
    "        return 'positive'\n",
    "    else:\n",
    "        return 'negative'\n",
    "print(function(-10))"
   ]
  },
  {
   "cell_type": "code",
   "execution_count": 2,
   "id": "499b179e",
   "metadata": {},
   "outputs": [
    {
     "name": "stdout",
     "output_type": "stream",
     "text": [
      "Enter value:10\n",
      "10 is positive\n"
     ]
    }
   ],
   "source": [
    "a=int(input('Enter value:'))\n",
    "if a>0:\n",
    "    print(a,'is positive')\n"
   ]
  },
  {
   "cell_type": "code",
   "execution_count": 3,
   "id": "06d12405",
   "metadata": {},
   "outputs": [
    {
     "name": "stdout",
     "output_type": "stream",
     "text": [
      "Enter value:20\n",
      "Enter value:6\n",
      "20 is greater than 6\n"
     ]
    }
   ],
   "source": [
    "a=int(input('Enter value:'))\n",
    "b=int(input('Enter value:'))\n",
    "if a>b:\n",
    "    print(a,'is greater than',b)\n",
    "else:\n",
    "    print(a,'is lower than',b)"
   ]
  },
  {
   "cell_type": "code",
   "execution_count": 7,
   "id": "9dfd5a26",
   "metadata": {},
   "outputs": [
    {
     "name": "stdout",
     "output_type": "stream",
     "text": [
      "Enter value:10\n",
      "Enter value:20\n",
      "10 is lower than 20\n"
     ]
    }
   ],
   "source": [
    "a=int(input('Enter value:'))\n",
    "b=int(input('Enter value:'))\n",
    "if a>b:\n",
    "    print(a,'is greater than',b)\n",
    "elif a<b:\n",
    "    print(a,'is lower than',b)\n",
    "else:\n",
    "    print(a,'is equal to',b)\n"
   ]
  },
  {
   "cell_type": "code",
   "execution_count": 12,
   "id": "ed7e4b5a",
   "metadata": {},
   "outputs": [
    {
     "name": "stdout",
     "output_type": "stream",
     "text": [
      "1 2 3 4 5 6 7 8 9 "
     ]
    }
   ],
   "source": [
    "for i in range(1,10):\n",
    "    print(i,end=\" \")"
   ]
  },
  {
   "cell_type": "code",
   "execution_count": 13,
   "id": "b2ce9203",
   "metadata": {},
   "outputs": [
    {
     "name": "stdout",
     "output_type": "stream",
     "text": [
      "10 20 30 40 50 60 70 80 90 100 "
     ]
    }
   ],
   "source": [
    "x=[10,20,30,40,50,60,70,80,90,100]\n",
    "for i in x:\n",
    "    print(i,end=\" \")"
   ]
  },
  {
   "cell_type": "code",
   "execution_count": 1,
   "id": "9d74ee96",
   "metadata": {},
   "outputs": [
    {
     "name": "stdout",
     "output_type": "stream",
     "text": [
      "Hello\n",
      "Hello\n",
      "Hello\n",
      "Hello\n",
      "Hello\n"
     ]
    }
   ],
   "source": [
    "a=0\n",
    "while a<5:\n",
    "    a=a+1\n",
    "    print(\"Hello\")"
   ]
  },
  {
   "cell_type": "code",
   "execution_count": 14,
   "id": "831467c9",
   "metadata": {},
   "outputs": [
    {
     "name": "stdout",
     "output_type": "stream",
     "text": [
      "10\n",
      "9\n",
      "8\n",
      "7\n",
      "6\n",
      "5\n",
      "4\n",
      "3\n",
      "2\n",
      "1\n"
     ]
    }
   ],
   "source": [
    "#print 1 to 10 in reverse order\n",
    "for i in reversed(range(1,11)):\n",
    "    print(i)"
   ]
  },
  {
   "cell_type": "code",
   "execution_count": 42,
   "id": "d76ca112",
   "metadata": {},
   "outputs": [
    {
     "name": "stdout",
     "output_type": "stream",
     "text": [
      "Enter a vowel: z\n",
      "That is not a vowel. Try again!\n",
      "Thank you!\n",
      "Enter a vowel: s\n",
      "That is not a vowel. Try again!\n",
      "Thank you!\n",
      "Enter a vowel: a\n",
      "this is a vowel\n"
     ]
    }
   ],
   "source": [
    "vowels=\"aeiouAEIOU\"                                        # infinite loop\n",
    "while True:\n",
    "    v =input(\"Enter a vowel: \")\n",
    "    if v in vowels:\n",
    "        print('this is a vowel')\n",
    "        break\n",
    "    print(\"That is not a vowel. Try again!\")\n",
    "    print(\"Thank you!\")"
   ]
  },
  {
   "cell_type": "code",
   "execution_count": 44,
   "id": "3712801b",
   "metadata": {},
   "outputs": [
    {
     "name": "stdout",
     "output_type": "stream",
     "text": [
      "P\n",
      "The end\n",
      "y\n",
      "The end\n",
      "t\n",
      "The end\n",
      "h\n",
      "The end\n",
      "o\n",
      "The end\n",
      "n\n",
      "The end\n",
      " \n",
      "The end\n",
      "i\n",
      "The end\n"
     ]
    }
   ],
   "source": [
    "for val in \"Python is a high level programming language\":\n",
    "    if val == \"s\":\n",
    "        break\n",
    "    print(val)\n",
    "    print(\"The end\")\n",
    "   "
   ]
  },
  {
   "cell_type": "code",
   "execution_count": 10,
   "id": "a8f6d62e",
   "metadata": {},
   "outputs": [
    {
     "name": "stdout",
     "output_type": "stream",
     "text": [
      "P\n",
      "Continue reading\n",
      "y\n",
      "Continue reading\n",
      "t\n",
      "Continue reading\n",
      "h\n",
      "Continue reading\n",
      "o\n",
      "Continue reading\n",
      "n\n",
      "Continue reading\n",
      " \n",
      "Continue reading\n",
      "i\n",
      "Continue reading\n",
      "s\n",
      "Continue reading\n",
      " \n",
      "Continue reading\n",
      "a\n",
      "Continue reading\n",
      " \n",
      "Continue reading\n",
      "h\n",
      "Continue reading\n",
      "i\n",
      "Continue reading\n",
      "g\n",
      "Continue reading\n",
      "h\n",
      "Continue reading\n",
      " \n",
      "Continue reading\n",
      "l\n",
      "Continue reading\n",
      "e\n",
      "Continue reading\n",
      "v\n",
      "Continue reading\n",
      "e\n",
      "Continue reading\n",
      "l\n",
      "Continue reading\n",
      " \n",
      "Continue reading\n",
      "r\n",
      "Continue reading\n",
      "o\n",
      "Continue reading\n",
      "g\n",
      "Continue reading\n",
      "r\n",
      "Continue reading\n",
      "a\n",
      "Continue reading\n",
      "m\n",
      "Continue reading\n",
      "m\n",
      "Continue reading\n",
      "i\n",
      "Continue reading\n",
      "n\n",
      "Continue reading\n",
      "g\n",
      "Continue reading\n",
      " \n",
      "Continue reading\n",
      "l\n",
      "Continue reading\n",
      "a\n",
      "Continue reading\n",
      "n\n",
      "Continue reading\n",
      "g\n",
      "Continue reading\n",
      "u\n",
      "Continue reading\n",
      "a\n",
      "Continue reading\n",
      "g\n",
      "Continue reading\n",
      "e\n",
      "Continue reading\n"
     ]
    }
   ],
   "source": [
    "text = \"Python is a high level programming language\"\n",
    "for val in text:\n",
    "    if val == \"p\":\n",
    "        continue\n",
    "    \n",
    "    print(val)\n",
    "    print(\"Continue reading\")"
   ]
  },
  {
   "cell_type": "code",
   "execution_count": 1,
   "id": "73225880",
   "metadata": {},
   "outputs": [
    {
     "data": {
      "text/plain": [
       "'shubh'"
      ]
     },
     "execution_count": 1,
     "metadata": {},
     "output_type": "execute_result"
    }
   ],
   "source": [
    "x = 5\n",
    "x = 'shubh'\n",
    "x"
   ]
  },
  {
   "cell_type": "code",
   "execution_count": 5,
   "id": "78150274",
   "metadata": {},
   "outputs": [
    {
     "name": "stdout",
     "output_type": "stream",
     "text": [
      "3\n",
      "3.0\n",
      "3\n"
     ]
    }
   ],
   "source": [
    "x= int(3)\n",
    "y= float(3)\n",
    "z= str('3')\n",
    "print(x)\n",
    "print(y)\n",
    "print(z)"
   ]
  },
  {
   "cell_type": "code",
   "execution_count": null,
   "id": "8bbeab4e",
   "metadata": {},
   "outputs": [],
   "source": []
  }
 ],
 "metadata": {
  "kernelspec": {
   "display_name": "Python 3 (ipykernel)",
   "language": "python",
   "name": "python3"
  },
  "language_info": {
   "codemirror_mode": {
    "name": "ipython",
    "version": 3
   },
   "file_extension": ".py",
   "mimetype": "text/x-python",
   "name": "python",
   "nbconvert_exporter": "python",
   "pygments_lexer": "ipython3",
   "version": "3.9.12"
  }
 },
 "nbformat": 4,
 "nbformat_minor": 5
}
