{
 "cells": [
  {
   "cell_type": "code",
   "execution_count": 1,
   "id": "cf570598",
   "metadata": {},
   "outputs": [
    {
     "name": "stdout",
     "output_type": "stream",
     "text": [
      "Enter x=5\n",
      "Enter y=6\n",
      "11.0\n"
     ]
    }
   ],
   "source": [
    "x=int(input('Enter x='))\n",
    "y=float(input('Enter y='))\n",
    "print(x+y)"
   ]
  },
  {
   "cell_type": "code",
   "execution_count": 2,
   "id": "1f3b3050",
   "metadata": {},
   "outputs": [
    {
     "name": "stdout",
     "output_type": "stream",
     "text": [
      "0\n",
      "1\n",
      "2\n",
      "3\n",
      "4\n",
      "5\n",
      "6\n",
      "7\n",
      "8\n",
      "9\n"
     ]
    }
   ],
   "source": [
    "for i in range(10):\n",
    "    print(i)\n"
   ]
  },
  {
   "cell_type": "markdown",
   "id": "358c05ae",
   "metadata": {},
   "source": [
    "# Arithematic Operators"
   ]
  },
  {
   "cell_type": "code",
   "execution_count": 3,
   "id": "4170fcae",
   "metadata": {},
   "outputs": [
    {
     "name": "stdout",
     "output_type": "stream",
     "text": [
      "Enter first value:9\n",
      "Enter second value:5\n",
      "Addition= 14\n",
      "Subtraction= 4\n",
      "Multiplication= 45\n",
      "Division= 1.8\n",
      "Modulus= 4\n",
      "Exponentiation= 59049\n",
      "Floor Division= 1\n"
     ]
    }
   ],
   "source": [
    "a=int(input('Enter first value:'))\n",
    "b=int(input('Enter second value:'))\n",
    "print('Addition=',a+b)\n",
    "print('Subtraction=',a-b)\n",
    "print('Multiplication=',a*b)\n",
    "print('Division=',a/b)\n",
    "print('Modulus=',a%b)\n",
    "print('Exponentiation=',a**b)                        # a=2,b=7 is 2*2*2*2*2*2*2 =128\n",
    "print('Floor Division=',a//b)                        # floor division // rounds the result to the nearest whole number"
   ]
  },
  {
   "cell_type": "markdown",
   "id": "7ad8bfae",
   "metadata": {},
   "source": [
    "# Assignment Operators"
   ]
  },
  {
   "cell_type": "code",
   "execution_count": 4,
   "id": "991c854e",
   "metadata": {},
   "outputs": [
    {
     "name": "stdout",
     "output_type": "stream",
     "text": [
      "Enter value:6\n",
      "a= 6\n",
      "a= 11\n",
      "a= 1\n",
      "a= 3\n",
      "a= 1\n",
      "a= 0\n",
      "Enter value:5\n",
      "b= 25\n"
     ]
    }
   ],
   "source": [
    "a=int(input('Enter value:'))\n",
    "print('a=',a)\n",
    "a+=5\n",
    "print('a=',a)\n",
    "a-=10\n",
    "print('a=',a)\n",
    "a*=3\n",
    "print('a=',a)\n",
    "a%=2\n",
    "print('a=',a)\n",
    "a//=2\n",
    "print('a=',a)\n",
    "b=int(input('Enter value:'))\n",
    "b**=2\n",
    "print('b=',b)\n"
   ]
  },
  {
   "cell_type": "code",
   "execution_count": 6,
   "id": "a51b04fe",
   "metadata": {},
   "outputs": [
    {
     "name": "stdout",
     "output_type": "stream",
     "text": [
      "Enter value:9\n",
      "c= 1\n",
      "c= 11\n",
      "c= 9\n"
     ]
    }
   ],
   "source": [
    "c=int(input('Enter value:'))\n",
    "c&=3\n",
    "print('c=',c)\n",
    "c|=10\n",
    "print('c=',c)\n",
    "c^=2\n",
    "print('c=',c)"
   ]
  },
  {
   "cell_type": "code",
   "execution_count": 7,
   "id": "5f2c9e5c",
   "metadata": {},
   "outputs": [
    {
     "name": "stdout",
     "output_type": "stream",
     "text": [
      "a= 40\n",
      "a= 25\n"
     ]
    }
   ],
   "source": [
    "a=10\n",
    "a<<=2                                       #left shift\n",
    "print('a=',a)\n",
    "a>>=2                                       #Right shift\n",
    "print('a=',b)"
   ]
  },
  {
   "cell_type": "markdown",
   "id": "c828ff0e",
   "metadata": {},
   "source": [
    "# Comparision OPerators"
   ]
  },
  {
   "cell_type": "code",
   "execution_count": 8,
   "id": "3029717a",
   "metadata": {},
   "outputs": [
    {
     "name": "stdout",
     "output_type": "stream",
     "text": [
      "a==b==c is False\n",
      "a!=b!=c is True\n",
      "c>b>a is True\n",
      "c<b>a is False\n",
      "c<b>a is False\n",
      "c<=b>=a is False\n",
      "c>=b>=a is True\n"
     ]
    }
   ],
   "source": [
    "a=10\n",
    "b=20\n",
    "c=30\n",
    "print('a==b==c is',a==b==c)\n",
    "print('a!=b!=c is',a!=b!=c)\n",
    "print('c>b>a is',c>b>a)\n",
    "print('c<b>a is',c<b>a)\n",
    "print('c<b>a is',c<b>a)\n",
    "print('c<=b>=a is',c<=b>=a)\n",
    "print('c>=b>=a is',c>=b>=a)"
   ]
  },
  {
   "cell_type": "markdown",
   "id": "a4f4230a",
   "metadata": {},
   "source": [
    "# Logical Operators"
   ]
  },
  {
   "cell_type": "code",
   "execution_count": 9,
   "id": "f87b5864",
   "metadata": {},
   "outputs": [
    {
     "name": "stdout",
     "output_type": "stream",
     "text": [
      "True\n",
      "False\n",
      "True\n"
     ]
    }
   ],
   "source": [
    "a=20\n",
    "b=30\n",
    "c=50\n",
    "print(a<b and b>a)\n",
    "print(a>c or b<a)\n",
    "print(not(a==b==c))"
   ]
  },
  {
   "cell_type": "markdown",
   "id": "0e86cfd4",
   "metadata": {},
   "source": [
    "# Identity Operators / Special Operators"
   ]
  },
  {
   "cell_type": "code",
   "execution_count": 10,
   "id": "986803ea",
   "metadata": {},
   "outputs": [
    {
     "name": "stdout",
     "output_type": "stream",
     "text": [
      "True\n",
      "True\n",
      "False\n",
      "False\n"
     ]
    }
   ],
   "source": [
    "a=20\n",
    "b=20\n",
    "c=30\n",
    "print(a is b)                                       # is operator\n",
    "print(a is not c)                                   # in not operator\n",
    "print(a is c)\n",
    "print(a is not b)"
   ]
  },
  {
   "cell_type": "code",
   "execution_count": 11,
   "id": "2622f1a3",
   "metadata": {},
   "outputs": [
    {
     "name": "stdout",
     "output_type": "stream",
     "text": [
      "True\n",
      "True\n",
      "False\n",
      "False\n",
      "False\n",
      "False\n",
      "True\n",
      "True\n"
     ]
    }
   ],
   "source": [
    "x=\"Hello World\"\n",
    "y={10,20,30,40,50,60}\n",
    "print('o' in x)\n",
    "print(50 in y)\n",
    "print('o' in y)\n",
    "print('50' in x)\n",
    "print('o' not in x)\n",
    "print(50 not in y)\n",
    "print('o' not in y)\n",
    "print('50' not in x)\n"
   ]
  },
  {
   "cell_type": "code",
   "execution_count": 12,
   "id": "2c4e443c",
   "metadata": {},
   "outputs": [
    {
     "data": {
      "text/plain": [
       "2"
      ]
     },
     "execution_count": 12,
     "metadata": {},
     "output_type": "execute_result"
    }
   ],
   "source": [
    "#Bitwise Operators\n",
    "a=10\n",
    "b=20\n",
    "'''a&b                                    #Bitwise and\n",
    "a|b                                       #Bitwise or\n",
    "a^b                                       #Bitwise XOR\n",
    "~a                                        #not\n",
    "a<<2'''                                   #Left shift\n",
    "a>>2                                      #Right Shift"
   ]
  },
  {
   "cell_type": "code",
   "execution_count": null,
   "id": "1e1039c3",
   "metadata": {},
   "outputs": [],
   "source": []
  }
 ],
 "metadata": {
  "kernelspec": {
   "display_name": "Python 3 (ipykernel)",
   "language": "python",
   "name": "python3"
  },
  "language_info": {
   "codemirror_mode": {
    "name": "ipython",
    "version": 3
   },
   "file_extension": ".py",
   "mimetype": "text/x-python",
   "name": "python",
   "nbconvert_exporter": "python",
   "pygments_lexer": "ipython3",
   "version": "3.9.12"
  }
 },
 "nbformat": 4,
 "nbformat_minor": 5
}
