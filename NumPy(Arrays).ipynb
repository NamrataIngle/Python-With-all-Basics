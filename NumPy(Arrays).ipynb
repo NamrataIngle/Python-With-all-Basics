{
  "nbformat": 4,
  "nbformat_minor": 0,
  "metadata": {
    "colab": {
      "provenance": []
    },
    "kernelspec": {
      "name": "python3",
      "display_name": "Python 3"
    },
    "language_info": {
      "name": "python"
    }
  },
  "cells": [
    {
      "cell_type": "markdown",
      "source": [
        "***Numpy***"
      ],
      "metadata": {
        "id": "O7S4DT7kgiG-"
      }
    },
    {
      "cell_type": "code",
      "execution_count": null,
      "metadata": {
        "id": "hDgkpLmYf_UR",
        "colab": {
          "base_uri": "https://localhost:8080/"
        },
        "outputId": "a50139ee-3652-44fb-b934-5abde6824980"
      },
      "outputs": [
        {
          "output_type": "stream",
          "name": "stdout",
          "text": [
            "[1 2 3 5 8 9 6 7]\n",
            "1.22.4\n",
            "<class 'numpy.ndarray'>\n",
            "1\n",
            "['ALLOW_THREADS', 'AxisError', 'BUFSIZE', 'CLIP', 'ComplexWarning', 'DataSource', 'ERR_CALL', 'ERR_DEFAULT', 'ERR_IGNORE', 'ERR_LOG', 'ERR_PRINT', 'ERR_RAISE', 'ERR_WARN', 'FLOATING_POINT_SUPPORT', 'FPE_DIVIDEBYZERO', 'FPE_INVALID', 'FPE_OVERFLOW', 'FPE_UNDERFLOW', 'False_', 'Inf', 'Infinity', 'MAXDIMS', 'MAY_SHARE_BOUNDS', 'MAY_SHARE_EXACT', 'ModuleDeprecationWarning', 'NAN', 'NINF', 'NZERO', 'NaN', 'PINF', 'PZERO', 'RAISE', 'RankWarning', 'SHIFT_DIVIDEBYZERO', 'SHIFT_INVALID', 'SHIFT_OVERFLOW', 'SHIFT_UNDERFLOW', 'ScalarType', 'Tester', 'TooHardError', 'True_', 'UFUNC_BUFSIZE_DEFAULT', 'UFUNC_PYVALS_NAME', 'VisibleDeprecationWarning', 'WRAP', '_CopyMode', '_NoValue', '_UFUNC_API', '__NUMPY_SETUP__', '__all__', '__builtins__', '__cached__', '__config__', '__deprecated_attrs__', '__dir__', '__doc__', '__expired_functions__', '__file__', '__getattr__', '__git_version__', '__loader__', '__name__', '__package__', '__path__', '__spec__', '__version__', '_add_newdoc_ufunc', '_distributor_init', '_financial_names', '_from_dlpack', '_globals', '_mat', '_pytesttester', '_version', 'abs', 'absolute', 'add', 'add_docstring', 'add_newdoc', 'add_newdoc_ufunc', 'alen', 'all', 'allclose', 'alltrue', 'amax', 'amin', 'angle', 'any', 'append', 'apply_along_axis', 'apply_over_axes', 'arange', 'arccos', 'arccosh', 'arcsin', 'arcsinh', 'arctan', 'arctan2', 'arctanh', 'argmax', 'argmin', 'argpartition', 'argsort', 'argwhere', 'around', 'array', 'array2string', 'array_equal', 'array_equiv', 'array_repr', 'array_split', 'array_str', 'asanyarray', 'asarray', 'asarray_chkfinite', 'ascontiguousarray', 'asfarray', 'asfortranarray', 'asmatrix', 'asscalar', 'atleast_1d', 'atleast_2d', 'atleast_3d', 'average', 'bartlett', 'base_repr', 'binary_repr', 'bincount', 'bitwise_and', 'bitwise_not', 'bitwise_or', 'bitwise_xor', 'blackman', 'block', 'bmat', 'bool8', 'bool_', 'broadcast', 'broadcast_arrays', 'broadcast_shapes', 'broadcast_to', 'busday_count', 'busday_offset', 'busdaycalendar', 'byte', 'byte_bounds', 'bytes0', 'bytes_', 'c_', 'can_cast', 'cast', 'cbrt', 'cdouble', 'ceil', 'cfloat', 'char', 'character', 'chararray', 'choose', 'clip', 'clongdouble', 'clongfloat', 'column_stack', 'common_type', 'compare_chararrays', 'compat', 'complex128', 'complex256', 'complex64', 'complex_', 'complexfloating', 'compress', 'concatenate', 'conj', 'conjugate', 'convolve', 'copy', 'copysign', 'copyto', 'core', 'corrcoef', 'correlate', 'cos', 'cosh', 'count_nonzero', 'cov', 'cross', 'csingle', 'ctypeslib', 'cumprod', 'cumproduct', 'cumsum', 'datetime64', 'datetime_as_string', 'datetime_data', 'deg2rad', 'degrees', 'delete', 'deprecate', 'deprecate_with_doc', 'diag', 'diag_indices', 'diag_indices_from', 'diagflat', 'diagonal', 'diff', 'digitize', 'disp', 'divide', 'divmod', 'dot', 'double', 'dsplit', 'dstack', 'dtype', 'e', 'ediff1d', 'einsum', 'einsum_path', 'emath', 'empty', 'empty_like', 'equal', 'errstate', 'euler_gamma', 'exp', 'exp2', 'expand_dims', 'expm1', 'extract', 'eye', 'fabs', 'fastCopyAndTranspose', 'fft', 'fill_diagonal', 'find_common_type', 'finfo', 'fix', 'flatiter', 'flatnonzero', 'flexible', 'flip', 'fliplr', 'flipud', 'float128', 'float16', 'float32', 'float64', 'float_', 'float_power', 'floating', 'floor', 'floor_divide', 'fmax', 'fmin', 'fmod', 'format_float_positional', 'format_float_scientific', 'format_parser', 'frexp', 'frombuffer', 'fromfile', 'fromfunction', 'fromiter', 'frompyfunc', 'fromregex', 'fromstring', 'full', 'full_like', 'gcd', 'generic', 'genfromtxt', 'geomspace', 'get_array_wrap', 'get_include', 'get_printoptions', 'getbufsize', 'geterr', 'geterrcall', 'geterrobj', 'gradient', 'greater', 'greater_equal', 'half', 'hamming', 'hanning', 'heaviside', 'histogram', 'histogram2d', 'histogram_bin_edges', 'histogramdd', 'hsplit', 'hstack', 'hypot', 'i0', 'identity', 'iinfo', 'imag', 'in1d', 'index_exp', 'indices', 'inexact', 'inf', 'info', 'infty', 'inner', 'insert', 'int0', 'int16', 'int32', 'int64', 'int8', 'int_', 'intc', 'integer', 'interp', 'intersect1d', 'intp', 'invert', 'is_busday', 'isclose', 'iscomplex', 'iscomplexobj', 'isfinite', 'isfortran', 'isin', 'isinf', 'isnan', 'isnat', 'isneginf', 'isposinf', 'isreal', 'isrealobj', 'isscalar', 'issctype', 'issubclass_', 'issubdtype', 'issubsctype', 'iterable', 'ix_', 'kaiser', 'kernel_version', 'kron', 'lcm', 'ldexp', 'left_shift', 'less', 'less_equal', 'lexsort', 'lib', 'linalg', 'linspace', 'little_endian', 'load', 'loadtxt', 'log', 'log10', 'log1p', 'log2', 'logaddexp', 'logaddexp2', 'logical_and', 'logical_not', 'logical_or', 'logical_xor', 'logspace', 'longcomplex', 'longdouble', 'longfloat', 'longlong', 'lookfor', 'ma', 'mask_indices', 'mat', 'math', 'matmul', 'matrix', 'matrixlib', 'max', 'maximum', 'maximum_sctype', 'may_share_memory', 'mean', 'median', 'memmap', 'meshgrid', 'mgrid', 'min', 'min_scalar_type', 'minimum', 'mintypecode', 'mod', 'modf', 'moveaxis', 'msort', 'multiply', 'nan', 'nan_to_num', 'nanargmax', 'nanargmin', 'nancumprod', 'nancumsum', 'nanmax', 'nanmean', 'nanmedian', 'nanmin', 'nanpercentile', 'nanprod', 'nanquantile', 'nanstd', 'nansum', 'nanvar', 'nbytes', 'ndarray', 'ndenumerate', 'ndim', 'ndindex', 'nditer', 'negative', 'nested_iters', 'newaxis', 'nextafter', 'nonzero', 'not_equal', 'numarray', 'number', 'obj2sctype', 'object0', 'object_', 'ogrid', 'oldnumeric', 'ones', 'ones_like', 'os', 'outer', 'packbits', 'pad', 'partition', 'percentile', 'pi', 'piecewise', 'place', 'poly', 'poly1d', 'polyadd', 'polyder', 'polydiv', 'polyfit', 'polyint', 'polymul', 'polynomial', 'polysub', 'polyval', 'positive', 'power', 'printoptions', 'prod', 'product', 'promote_types', 'ptp', 'put', 'put_along_axis', 'putmask', 'quantile', 'r_', 'rad2deg', 'radians', 'random', 'ravel', 'ravel_multi_index', 'real', 'real_if_close', 'rec', 'recarray', 'recfromcsv', 'recfromtxt', 'reciprocal', 'record', 'remainder', 'repeat', 'require', 'reshape', 'resize', 'result_type', 'right_shift', 'rint', 'roll', 'rollaxis', 'roots', 'rot90', 'round', 'round_', 'row_stack', 's_', 'safe_eval', 'save', 'savetxt', 'savez', 'savez_compressed', 'sctype2char', 'sctypeDict', 'sctypes', 'searchsorted', 'select', 'set_numeric_ops', 'set_printoptions', 'set_string_function', 'setbufsize', 'setdiff1d', 'seterr', 'seterrcall', 'seterrobj', 'setxor1d', 'shape', 'shares_memory', 'short', 'show_config', 'sign', 'signbit', 'signedinteger', 'sin', 'sinc', 'single', 'singlecomplex', 'sinh', 'size', 'sometrue', 'sort', 'sort_complex', 'source', 'spacing', 'split', 'sqrt', 'square', 'squeeze', 'stack', 'std', 'str0', 'str_', 'string_', 'subtract', 'sum', 'swapaxes', 'sys', 'take', 'take_along_axis', 'tan', 'tanh', 'tensordot', 'test', 'testing', 'tile', 'timedelta64', 'trace', 'tracemalloc_domain', 'transpose', 'trapz', 'tri', 'tril', 'tril_indices', 'tril_indices_from', 'trim_zeros', 'triu', 'triu_indices', 'triu_indices_from', 'true_divide', 'trunc', 'typecodes', 'typename', 'ubyte', 'ufunc', 'uint', 'uint0', 'uint16', 'uint32', 'uint64', 'uint8', 'uintc', 'uintp', 'ulonglong', 'unicode_', 'union1d', 'unique', 'unpackbits', 'unravel_index', 'unsignedinteger', 'unwrap', 'use_hugepage', 'ushort', 'vander', 'var', 'vdot', 'vectorize', 'version', 'void', 'void0', 'vsplit', 'vstack', 'warnings', 'where', 'who', 'zeros', 'zeros_like']\n"
          ]
        }
      ],
      "source": [
        "from numpy import *\n",
        "import numpy\n",
        "arr = array([1,2,3,5,8,9,6,7]) #array creation\n",
        "print(arr)\n",
        "print(__version__) #version\n",
        "print(type(arr)) #class\n",
        "print(arr.ndim) #Dimenstion of array\n",
        "print(dir(numpy))  #print directory of numpy"
      ]
    },
    {
      "cell_type": "code",
      "source": [
        "a = array(1)       #0-D array(zero dimention array)\n",
        "b = array([1,2,3])          #uni-dimention array(1-D array)\n",
        "c = array([[1,2,3],[5,6,9]])    #2-D array(represents matrix or 2nd order tensor)                      #\n",
        "d = array([[[1,2,3],[5,6,9]],[[8,9,12],[5,6,8]]])  #3-D array(used to represent 3rd order tensor)\n",
        "e = array([1,2,3,4],ndmin=5)  #define no. of dimention by using ndimn argument\n",
        "#Check number of dimention with the function : ndim\n",
        "print(a.ndim)\n",
        "print(b.ndim)\n",
        "print(c.ndim)\n",
        "print(d)\n",
        "print(d.ndim)\n",
        "print(e)\n",
        "print(e.ndim)\n"
      ],
      "metadata": {
        "id": "JG6nURO1gKVt",
        "colab": {
          "base_uri": "https://localhost:8080/"
        },
        "outputId": "cea2c1d5-2b0a-48b2-db39-38e9fd0ae4c9"
      },
      "execution_count": null,
      "outputs": [
        {
          "output_type": "stream",
          "name": "stdout",
          "text": [
            "0\n",
            "1\n",
            "2\n",
            "[[[ 1  2  3]\n",
            "  [ 5  6  9]]\n",
            "\n",
            " [[ 8  9 12]\n",
            "  [ 5  6  8]]]\n",
            "3\n",
            "[[[[[1 2 3 4]]]]]\n",
            "5\n"
          ]
        }
      ]
    },
    {
      "cell_type": "code",
      "source": [
        "#Access array elements\n",
        "arr = array([1,2,3,4,5,6])\n",
        "print(arr[0])                  #Indexing starts from 0\n",
        "print('Array elements:')\n",
        "for i in arr:                  #print all the elements of array\n",
        "  print(i,end=' ')\n",
        "print()\n",
        "print('Addition of 2nd and 3ed element of array')\n",
        "print(arr[1]+arr[2])"
      ],
      "metadata": {
        "id": "B-UlyhdCgRTp",
        "colab": {
          "base_uri": "https://localhost:8080/"
        },
        "outputId": "5c71ae6e-993a-485c-edea-54dc6401064d"
      },
      "execution_count": null,
      "outputs": [
        {
          "output_type": "stream",
          "name": "stdout",
          "text": [
            "1\n",
            "Array elements:\n",
            "1 2 3 4 5 6 \n",
            "Addition of 2nd and 3ed element of array\n",
            "5\n"
          ]
        }
      ]
    },
    {
      "cell_type": "code",
      "source": [
        "#Access 2-D arrays\n",
        "#Access the element on first row, second column:\n",
        "two_d = array([[2,5,8,9,6,9],[8,6,5,7,1,2]])\n",
        "print('2nd element on 1st row:',two_d[0,1])\n",
        "\n",
        "#Access the element on the 2nd row, 5th column:\n",
        "print('5nd element on 2st row:',two_d[1,4])"
      ],
      "metadata": {
        "id": "4IAF1Ny5pNSO",
        "colab": {
          "base_uri": "https://localhost:8080/"
        },
        "outputId": "d44ebe8f-f1a7-4c0b-bdcb-016423091f48"
      },
      "execution_count": null,
      "outputs": [
        {
          "output_type": "stream",
          "name": "stdout",
          "text": [
            "2nd element on 1st row: 5\n",
            "5nd element on 2st row: 1\n"
          ]
        }
      ]
    },
    {
      "cell_type": "code",
      "source": [
        "#Access 3-D arrays\n",
        "arr = array([[[1, 2, 3], [4, 5, 6]], [[7, 8, 9], [10, 11, 12]]])\n",
        "print(arr[1,1,2])\n",
        "\n",
        "#negative indexing\n",
        "print(arr[1,-1])\n",
        "print(arr[-2,-1,-3])"
      ],
      "metadata": {
        "id": "d2b98BavrP7L",
        "colab": {
          "base_uri": "https://localhost:8080/"
        },
        "outputId": "9122c58d-9335-4929-ff65-9f0ff9000698"
      },
      "execution_count": null,
      "outputs": [
        {
          "output_type": "stream",
          "name": "stdout",
          "text": [
            "12\n",
            "[10 11 12]\n",
            "4\n"
          ]
        }
      ]
    },
    {
      "cell_type": "code",
      "source": [
        "#SLICING ARRAYS\n",
        "arr = array([21,5,48,9,6,4,6,4,5,6,454,56])\n",
        "print(arr[1:9])                    #[start:end]\n",
        "print(arr[1:10:3])                    #[start:end:step]\n",
        "print(arr[3:])                        #if end is not passed then it considers length of array\n",
        "print(arr[:9])                         #if start is not passed is considers 0\n",
        "print(arr[1:10])               #bydefault step is 1\n",
        "print(arr[::3])\n",
        "\n",
        "#negative indexing\n",
        "print('Negative Indexing')\n",
        "print(arr[-9:-2])\n",
        "print(arr[-9:])\n"
      ],
      "metadata": {
        "id": "P-lJm2f2skKA",
        "colab": {
          "base_uri": "https://localhost:8080/"
        },
        "outputId": "25601820-1bb7-4e29-fc1a-209901704db9"
      },
      "execution_count": null,
      "outputs": [
        {
          "output_type": "stream",
          "name": "stdout",
          "text": [
            "[ 5 48  9  6  4  6  4  5]\n",
            "[5 6 4]\n",
            "[  9   6   4   6   4   5   6 454  56]\n",
            "[21  5 48  9  6  4  6  4  5]\n",
            "[ 5 48  9  6  4  6  4  5  6]\n",
            "[21  9  6  6]\n",
            "Negative Indexing\n",
            "[9 6 4 6 4 5 6]\n",
            "[  9   6   4   6   4   5   6 454  56]\n"
          ]
        }
      ]
    },
    {
      "cell_type": "code",
      "source": [
        "#Slicing 2-D arrays\n",
        "arr = array([[11,12,32,56,54,88],[5,2,3,6,45,45]])\n",
        "print(arr[1,1:3])\n",
        "print(arr[0,2:])\n",
        "print(arr[0:2,1])\n",
        "print(arr[0:3,1:4])\n",
        "\n"
      ],
      "metadata": {
        "id": "YpOzHINWd--h",
        "colab": {
          "base_uri": "https://localhost:8080/"
        },
        "outputId": "e262cee5-645c-43e9-d83c-18bbd1f6d2dc"
      },
      "execution_count": null,
      "outputs": [
        {
          "output_type": "stream",
          "name": "stdout",
          "text": [
            "[2 3]\n",
            "[32 56 54 88]\n",
            "[12  2]\n",
            "[[12 32 56]\n",
            " [ 2  3  6]]\n"
          ]
        }
      ]
    },
    {
      "cell_type": "code",
      "source": [],
      "metadata": {
        "id": "KR28PdDS4J73"
      },
      "execution_count": null,
      "outputs": []
    },
    {
      "cell_type": "markdown",
      "source": [
        "**Data Types in Numpy**\n",
        "\n",
        "'''\n",
        "i - integer\n",
        "b - boolean\n",
        "u - unsigned integer\n",
        "f - float\n",
        "c - complex float\n",
        "m - timedelta\n",
        "M - datetime\n",
        "O - object\n",
        "S - string\n",
        "U - unicode string\n",
        "V - fixed chunk of memory for other type ( void )\n",
        "'''"
      ],
      "metadata": {
        "id": "YaRwPCtt6hBU"
      }
    },
    {
      "cell_type": "code",
      "source": [
        "#Data Types in Numpy\n",
        "\n",
        "'''\n",
        "i - integer\n",
        "b - boolean\n",
        "u - unsigned integer\n",
        "f - float\n",
        "c - complex float\n",
        "m - timedelta\n",
        "M - datetime\n",
        "O - object\n",
        "S - string\n",
        "U - unicode string\n",
        "V - fixed chunk of memory for other type ( void )\n",
        "'''\n"
      ],
      "metadata": {
        "id": "rYG6NJm66qZI",
        "colab": {
          "base_uri": "https://localhost:8080/",
          "height": 53
        },
        "outputId": "5e7a2847-2843-49c1-e331-d9350d815f87"
      },
      "execution_count": null,
      "outputs": [
        {
          "output_type": "execute_result",
          "data": {
            "text/plain": [
              "'\\ni - integer\\nb - boolean\\nu - unsigned integer\\nf - float\\nc - complex float\\nm - timedelta\\nM - datetime\\nO - object\\nS - string\\nU - unicode string\\nV - fixed chunk of memory for other type ( void )\\n'"
            ],
            "application/vnd.google.colaboratory.intrinsic+json": {
              "type": "string"
            }
          },
          "metadata": {},
          "execution_count": 19
        }
      ]
    },
    {
      "cell_type": "code",
      "source": [
        "arr = array([1,2,3,4,5])\n",
        "print(arr.dtype)"
      ],
      "metadata": {
        "id": "MNKWiSPQ9NOJ",
        "colab": {
          "base_uri": "https://localhost:8080/"
        },
        "outputId": "ce0cc06a-c6b3-4321-dbf0-0f95fd6765a8"
      },
      "execution_count": null,
      "outputs": [
        {
          "output_type": "stream",
          "name": "stdout",
          "text": [
            "int64\n"
          ]
        }
      ]
    },
    {
      "cell_type": "code",
      "source": [
        "arr = array(['apple', 'banana', 'cherry'])\n",
        "\n",
        "print(arr.dtype)"
      ],
      "metadata": {
        "id": "05xTkG4D93xe",
        "colab": {
          "base_uri": "https://localhost:8080/"
        },
        "outputId": "8a448360-fb54-4040-832e-659b2affe197"
      },
      "execution_count": null,
      "outputs": [
        {
          "output_type": "stream",
          "name": "stdout",
          "text": [
            "<U6\n"
          ]
        }
      ]
    },
    {
      "cell_type": "code",
      "source": [
        "#Creating Arrays With a Defined Data Type\n",
        "\n",
        "arr = array([1,2,3,4], dtype='S')  #create array wiht data type string\n",
        "print(arr)\n",
        "print(arr.dtype)"
      ],
      "metadata": {
        "id": "96Vt88o2-G4x",
        "colab": {
          "base_uri": "https://localhost:8080/"
        },
        "outputId": "5e22fef7-6eb3-4afb-d5d3-d870f1e2057e"
      },
      "execution_count": null,
      "outputs": [
        {
          "output_type": "stream",
          "name": "stdout",
          "text": [
            "[b'1' b'2' b'3' b'4']\n",
            "|S1\n"
          ]
        }
      ]
    },
    {
      "cell_type": "code",
      "source": [
        "#create an array with data type 4 bytes integer\n",
        "a1 = array([1,2,3,4],dtype='i4')\n",
        "print(a1)\n",
        "print(a1.dtype)"
      ],
      "metadata": {
        "id": "2OR1YABY-1-i",
        "colab": {
          "base_uri": "https://localhost:8080/"
        },
        "outputId": "e9c75979-dcf0-4534-a92f-6c9c49b9e646"
      },
      "execution_count": null,
      "outputs": [
        {
          "output_type": "stream",
          "name": "stdout",
          "text": [
            "[1 2 3 4]\n",
            "int32\n"
          ]
        }
      ]
    },
    {
      "cell_type": "markdown",
      "source": [
        "If a type is given in which elements can't be casted then NumPy will raise a Value error"
      ],
      "metadata": {
        "id": "r7anM5ZiqaOz"
      }
    },
    {
      "cell_type": "code",
      "source": [
        "import numpy as np\n",
        "\n",
        "x = np.array([1,5,6,8])\n",
        "mean_x = np.mean(x)\n",
        "print(mean_x)\n"
      ],
      "metadata": {
        "id": "GB0tmfMPAVdM",
        "colab": {
          "base_uri": "https://localhost:8080/"
        },
        "outputId": "238bcb28-1745-48ec-9bfa-6ee2e01e591f"
      },
      "execution_count": null,
      "outputs": [
        {
          "output_type": "stream",
          "name": "stdout",
          "text": [
            "5.0\n"
          ]
        }
      ]
    },
    {
      "cell_type": "code",
      "source": [
        "#Converting data type on existing arrays\n",
        "#Change data type from float to integer by using 'i' as a parameter value\n",
        "\n",
        "import numpy as np\n",
        "arr = np.array([1.1,2.2,3.3,5.5])\n",
        "newarr = arr.astype('i')                      #'i' as parameter value\n",
        "#newarr = arr.astype(int)                     # int as parameter value\n",
        "\n",
        "print(newarr)\n",
        "print(newarr.dtype)"
      ],
      "metadata": {
        "id": "IrQrOxUkHSbz",
        "colab": {
          "base_uri": "https://localhost:8080/"
        },
        "outputId": "f9f9cef0-763c-47ab-c508-061788a88102"
      },
      "execution_count": null,
      "outputs": [
        {
          "output_type": "stream",
          "name": "stdout",
          "text": [
            "[1 2 3 5]\n",
            "int32\n"
          ]
        }
      ]
    },
    {
      "cell_type": "markdown",
      "source": [
        "**NumPy Array Copy Vs View** The copy owns the data and any changes made to the copy will not affect original array, and any changes made to the original array will not affect the copy"
      ],
      "metadata": {
        "id": "twUqaY2JtEQt"
      }
    },
    {
      "cell_type": "code",
      "source": [
        "#Make a copy, change the original array, and print both\n",
        "import numpy as np\n",
        "arr = np.array([1,2,3,4,5,6])\n",
        "cpyarr = arr.copy()\n",
        "arr[3] = 400\n",
        "cpyarr[0] = 100\n",
        "\n",
        "print(arr)\n",
        "print(cpyarr)"
      ],
      "metadata": {
        "id": "ZoCL6yQtryJk",
        "colab": {
          "base_uri": "https://localhost:8080/"
        },
        "outputId": "42d46148-d9f1-442b-a11d-b5fb9e5fe175"
      },
      "execution_count": null,
      "outputs": [
        {
          "output_type": "stream",
          "name": "stdout",
          "text": [
            "[  1   2   3 400   5   6]\n",
            "[100   2   3   4   5   6]\n"
          ]
        }
      ]
    },
    {
      "cell_type": "code",
      "source": [
        "#Make a view, change the original array and print both\n",
        "import numpy as np\n",
        "arr = np.array([1,2,3,4,5,6])\n",
        "varr = arr.view()\n",
        "arr[3] = 400\n",
        "varr[0] = 100\n",
        "\n",
        "print(arr)\n",
        "print(cpyarr)"
      ],
      "metadata": {
        "id": "nXeizzM7uiHq",
        "colab": {
          "base_uri": "https://localhost:8080/"
        },
        "outputId": "3439a52b-deb6-475c-c71f-2b4fa2cc9bef"
      },
      "execution_count": null,
      "outputs": [
        {
          "output_type": "stream",
          "name": "stdout",
          "text": [
            "[100   2   3 400   5   6]\n",
            "[100   2   3   4   5   6]\n"
          ]
        }
      ]
    },
    {
      "cell_type": "code",
      "source": [
        "#Check if array owns its data : 'base' attribute returns 'None' if the array owns the data\n",
        "\n",
        "import numpy as np\n",
        "arr = np.array([1,2,3,4,5,6])\n",
        "\n",
        "x = arr.copy()\n",
        "y = arr.view()\n",
        "\n",
        "print(x.base)             #copy owns the data .....output = None\n",
        "print(y.base)             #view does not own the data.....otput = returns the original data"
      ],
      "metadata": {
        "id": "5VL_pDilvGTH",
        "colab": {
          "base_uri": "https://localhost:8080/"
        },
        "outputId": "21e21c27-fbaa-4ae3-c993-4026004c7956"
      },
      "execution_count": null,
      "outputs": [
        {
          "output_type": "stream",
          "name": "stdout",
          "text": [
            "None\n",
            "[1 2 3 4 5 6]\n"
          ]
        }
      ]
    },
    {
      "cell_type": "code",
      "source": [
        "#Get shape of an array : shape of an array is the number of elements in each dimention\n",
        "import numpy as np\n",
        "arr = np.array([[1,2,3,4,5,6],[7,8,9,10,11,12]])         #array of 2 rows and 6 columns\n",
        "print(arr.shape)              #returns (2,6), which means that the array has 2 dimentions, where the first dimension has 2 elements and second has 4"
      ],
      "metadata": {
        "id": "_4lA86bcv_2f",
        "colab": {
          "base_uri": "https://localhost:8080/"
        },
        "outputId": "e236a7fa-d822-4039-f9f1-d411fca877ae"
      },
      "execution_count": null,
      "outputs": [
        {
          "output_type": "stream",
          "name": "stdout",
          "text": [
            "(2, 6)\n"
          ]
        }
      ]
    },
    {
      "cell_type": "code",
      "source": [
        "#create an array with 5 dimensions using 'ndmin' using a vector with values 2,5,6,4\n",
        "\n",
        "import numpy as np\n",
        "arr = np.array([2,5,6,4],ndmin = 5)\n",
        "print(arr)\n",
        "print('shape of array:',arr.shape)                # at index-4 we have value 4, so we can say that 5th ( 4 + 1 th) dimension has 4 elements."
      ],
      "metadata": {
        "id": "lIklatDVxqW8",
        "colab": {
          "base_uri": "https://localhost:8080/"
        },
        "outputId": "5ce53715-61f2-497b-bc9a-976fd2b191eb"
      },
      "execution_count": null,
      "outputs": [
        {
          "output_type": "stream",
          "name": "stdout",
          "text": [
            "[[[[[2 5 6 4]]]]]\n",
            "shape of array: (1, 1, 1, 1, 4)\n"
          ]
        }
      ]
    },
    {
      "cell_type": "code",
      "source": [
        "#Reshaping array : Changing the shape of an array\n",
        "#reshape from 1-D to 2-D & 3-D\n",
        "import numpy as np\n",
        "arr = np.array([1,2,3,4,5,6,7,8,9,10,11,12])\n",
        "\n",
        "newarr = arr.reshape(4,3)    #2-D\n",
        "newarr1 = arr.reshape(2,3,2)   #3-D\n",
        "print(newarr)\n",
        "print(newarr.shape)\n",
        "print(newarr1)\n",
        "print(newarr1.shape)"
      ],
      "metadata": {
        "id": "iFkHQfIx06JP",
        "colab": {
          "base_uri": "https://localhost:8080/"
        },
        "outputId": "c03dc14f-a3d7-4aaa-c523-a5825e7e315b"
      },
      "execution_count": null,
      "outputs": [
        {
          "output_type": "stream",
          "name": "stdout",
          "text": [
            "[[ 1  2  3]\n",
            " [ 4  5  6]\n",
            " [ 7  8  9]\n",
            " [10 11 12]]\n",
            "(4, 3)\n",
            "[[[ 1  2]\n",
            "  [ 3  4]\n",
            "  [ 5  6]]\n",
            "\n",
            " [[ 7  8]\n",
            "  [ 9 10]\n",
            "  [11 12]]]\n",
            "(2, 3, 2)\n"
          ]
        }
      ]
    },
    {
      "cell_type": "code",
      "source": [
        "#Check if the returned  array  is a copy or view\n",
        "\n",
        "import numpy as np\n",
        "arr = np.array([1,2,3,4,5,6,7,8,9,10])\n",
        "print(arr.reshape(2,5).base)"
      ],
      "metadata": {
        "id": "Nle7IljE25Eq",
        "colab": {
          "base_uri": "https://localhost:8080/"
        },
        "outputId": "df45502c-3c1c-4d1d-d13a-714b9d1525d2"
      },
      "execution_count": null,
      "outputs": [
        {
          "output_type": "stream",
          "name": "stdout",
          "text": [
            "[ 1  2  3  4  5  6  7  8  9 10]\n"
          ]
        }
      ]
    },
    {
      "cell_type": "code",
      "source": [
        "#Unknown dimension\n",
        "import numpy as np\n",
        "arr = np.array([1,2,3,4,5,6,7,8,9,10])\n",
        "newarr = arr.reshape(5,2,-1)                 #We can not pass -1 to more than 1 dimension\n",
        "print(newarr)"
      ],
      "metadata": {
        "id": "pFBUEPCsBtjW",
        "colab": {
          "base_uri": "https://localhost:8080/"
        },
        "outputId": "8301f937-2ac6-474f-9ad8-adcb90d80c0b"
      },
      "execution_count": null,
      "outputs": [
        {
          "output_type": "stream",
          "name": "stdout",
          "text": [
            "[[[ 1]\n",
            "  [ 2]]\n",
            "\n",
            " [[ 3]\n",
            "  [ 4]]\n",
            "\n",
            " [[ 5]\n",
            "  [ 6]]\n",
            "\n",
            " [[ 7]\n",
            "  [ 8]]\n",
            "\n",
            " [[ 9]\n",
            "  [10]]]\n"
          ]
        }
      ]
    },
    {
      "cell_type": "code",
      "source": [
        "#Flattering the arrays : Converting multi dimensional array into one dimensional array : Use (reshape(-1))\n",
        "import numpy as np\n",
        "arr = np.array([[1,2,3,4,5],[6,7,8,9,10]])\n",
        "newarr = arr.reshape(-1)\n",
        "print(newarr)"
      ],
      "metadata": {
        "id": "S3lcPzv-uii6",
        "colab": {
          "base_uri": "https://localhost:8080/"
        },
        "outputId": "27cb7772-7fba-46e7-a1b1-5e2ea25fd846"
      },
      "execution_count": null,
      "outputs": [
        {
          "output_type": "stream",
          "name": "stdout",
          "text": [
            "[ 1  2  3  4  5  6  7  8  9 10]\n"
          ]
        }
      ]
    },
    {
      "cell_type": "code",
      "source": [
        "#Iterating arrays : Iterating array means going through one by one element of array\n",
        "import numpy as np\n",
        "arr = np.array([1,2,3,4,5,6])\n",
        "for i in arr:\n",
        "  print(i)"
      ],
      "metadata": {
        "id": "RvmNl7M8wEV-",
        "colab": {
          "base_uri": "https://localhost:8080/"
        },
        "outputId": "0a419e31-cf05-4b55-a051-1cb6de8c246b"
      },
      "execution_count": null,
      "outputs": [
        {
          "output_type": "stream",
          "name": "stdout",
          "text": [
            "1\n",
            "2\n",
            "3\n",
            "4\n",
            "5\n",
            "6\n"
          ]
        }
      ]
    },
    {
      "cell_type": "code",
      "source": [
        "import numpy as np\n",
        "arr = np.array([[[1,2,3,4],[5,8,9,6]],[[8,6,3,4],[1,2,3,8]]])\n",
        "for x in arr:                 #Going through lists only\n",
        "  print(x)\n",
        "for x in arr:\n",
        "  for y in x:                 #Going through the each element of both the lists\n",
        "    for z in y:\n",
        "      print(z)\n"
      ],
      "metadata": {
        "colab": {
          "base_uri": "https://localhost:8080/"
        },
        "id": "-o2WsudjUbsJ",
        "outputId": "960ff1fd-24d1-4bb9-bba3-0c68fa417e20"
      },
      "execution_count": null,
      "outputs": [
        {
          "output_type": "stream",
          "name": "stdout",
          "text": [
            "[[1 2 3 4]\n",
            " [5 8 9 6]]\n",
            "[[8 6 3 4]\n",
            " [1 2 3 8]]\n",
            "1\n",
            "2\n",
            "3\n",
            "4\n",
            "5\n",
            "8\n",
            "9\n",
            "6\n",
            "8\n",
            "6\n",
            "3\n",
            "4\n",
            "1\n",
            "2\n",
            "3\n",
            "8\n"
          ]
        }
      ]
    },
    {
      "cell_type": "code",
      "source": [
        "#Iterarting arrays using nditet() : a function used for basic to advanced iterations.\n",
        "import numpy as np\n",
        "arr = np.array([[[1,2],[3,4]],[[5,6],[8,9]]])\n",
        "for i in np.nditer(arr):\n",
        "  print(i)"
      ],
      "metadata": {
        "id": "5xZrwNPNVcWg",
        "colab": {
          "base_uri": "https://localhost:8080/"
        },
        "outputId": "464d306b-d2c7-44de-e2b8-4280361cf243"
      },
      "execution_count": null,
      "outputs": [
        {
          "output_type": "stream",
          "name": "stdout",
          "text": [
            "1\n",
            "2\n",
            "3\n",
            "4\n",
            "5\n",
            "6\n",
            "8\n",
            "9\n"
          ]
        }
      ]
    },
    {
      "cell_type": "code",
      "source": [
        "#Joining numpy arrays : concatenate()\n",
        "import numpy as np\n",
        "arr1 = np.array([1,2,3,4])\n",
        "arr2 = np.array([5,6,7,8])\n",
        "arr = np.concatenate((arr1,arr2))\n",
        "print(arr)"
      ],
      "metadata": {
        "colab": {
          "base_uri": "https://localhost:8080/"
        },
        "id": "L1gbyduQnrUt",
        "outputId": "171d597e-de73-4238-ec98-95bf01d3b04a"
      },
      "execution_count": null,
      "outputs": [
        {
          "output_type": "stream",
          "name": "stdout",
          "text": [
            "[1 2 3 4 5 6 7 8]\n"
          ]
        }
      ]
    },
    {
      "cell_type": "code",
      "source": [
        "#join 2-D arrays\n",
        "import numpy as np\n",
        "arr1 = np.array([[1, 2], [3, 4]])\n",
        "arr2 = np.array([[5, 6], [7, 8]])\n",
        "arr = np.concatenate((arr1,arr2),axis=1)\n",
        "print(arr)"
      ],
      "metadata": {
        "colab": {
          "base_uri": "https://localhost:8080/"
        },
        "id": "KEyGI2wmpLrp",
        "outputId": "62f31327-2be9-4083-8441-fea36b9d395c"
      },
      "execution_count": null,
      "outputs": [
        {
          "output_type": "stream",
          "name": "stdout",
          "text": [
            "[[1 2 5 6]\n",
            " [3 4 7 8]]\n"
          ]
        }
      ]
    },
    {
      "cell_type": "code",
      "source": [
        "#joining arrays using stack() function\n",
        "import numpy as np\n",
        "arr1 = np.array([1,2,3,4])\n",
        "arr2 = np.array([5,6,7,8])\n",
        "arr = np.stack((arr1,arr2),axis=1)\n",
        "print(arr)"
      ],
      "metadata": {
        "colab": {
          "base_uri": "https://localhost:8080/"
        },
        "id": "WO5QYz-MpxRh",
        "outputId": "733b4a36-c00f-4733-b6df-59a83ca8bc1b"
      },
      "execution_count": null,
      "outputs": [
        {
          "output_type": "stream",
          "name": "stdout",
          "text": [
            "[[1 5]\n",
            " [2 6]\n",
            " [3 7]\n",
            " [4 8]]\n"
          ]
        }
      ]
    },
    {
      "cell_type": "code",
      "source": [
        "import numpy as np\n",
        "arr1 = np.array([[1, 2], [3, 4]])\n",
        "arr2 = np.array([[5, 6], [7, 8]])\n",
        "arr = np.stack((arr1,arr2),axis=1)\n",
        "print(arr)"
      ],
      "metadata": {
        "colab": {
          "base_uri": "https://localhost:8080/"
        },
        "id": "zhUAgF52ql8Z",
        "outputId": "dd0b82df-3866-415c-92bf-787462b6fd93"
      },
      "execution_count": null,
      "outputs": [
        {
          "output_type": "stream",
          "name": "stdout",
          "text": [
            "[[[1 2]\n",
            "  [5 6]]\n",
            "\n",
            " [[3 4]\n",
            "  [7 8]]]\n"
          ]
        }
      ]
    },
    {
      "cell_type": "code",
      "source": [
        "import numpy as np\n",
        "arr1 = np.array([1,2,3,4])\n",
        "arr2 = np.array([5,6,7,8])\n",
        "arr3 = np.hstack((arr1,arr2))   #Stacking along rows hstack()\n",
        "print('Stack along Rows:',arr3)\n",
        "arr4 = np.vstack((arr1,arr2))     #Stacking along columns vstack()\n",
        "print('Stack along Columns:')\n",
        "print(arr4)\n",
        "print('Stack along Height:')\n",
        "arr5 = np.dstack((arr1,arr2))\n",
        "print(arr5)"
      ],
      "metadata": {
        "colab": {
          "base_uri": "https://localhost:8080/"
        },
        "id": "AOUFzxqHq3zC",
        "outputId": "05f945c0-2429-4669-f1b6-df757428bb13"
      },
      "execution_count": null,
      "outputs": [
        {
          "output_type": "stream",
          "name": "stdout",
          "text": [
            "Stack along Rows: [1 2 3 4 5 6 7 8]\n",
            "Stack along Columns:\n",
            "[[1 2 3 4]\n",
            " [5 6 7 8]]\n",
            "Stack along Height:\n",
            "[[[1 5]\n",
            "  [2 6]\n",
            "  [3 7]\n",
            "  [4 8]]]\n"
          ]
        }
      ]
    },
    {
      "cell_type": "code",
      "source": [
        "#Splitting arrays : Splitting is nothing a exact opposite to joining : array_split()\n",
        "import numpy as np\n",
        "arr = np.array([1, 2, 3, 4, 5, 6])\n",
        "newarr = np.array_split(arr,3)\n",
        "#newarr = np.array_split(arr,5)          #if the array has less elements than required, it will adjust the end accordingly\n",
        "print(newarr)"
      ],
      "metadata": {
        "colab": {
          "base_uri": "https://localhost:8080/"
        },
        "id": "8yfq_Jg9rkGV",
        "outputId": "a7cb760a-319b-4017-91e4-6b6aac1b67e0"
      },
      "execution_count": null,
      "outputs": [
        {
          "output_type": "stream",
          "name": "stdout",
          "text": [
            "[array([1, 2]), array([3, 4]), array([5, 6])]\n"
          ]
        }
      ]
    },
    {
      "cell_type": "code",
      "source": [
        "#Searching arrays : where()\n",
        "import numpy as np\n",
        "arr = np.array([1, 2, 3, 4, 5, 4, 4])\n",
        "np.where(arr == 4)             #index value for all the 4 will be return in tuple"
      ],
      "metadata": {
        "id": "9oMq9Uo2uLch",
        "colab": {
          "base_uri": "https://localhost:8080/"
        },
        "outputId": "f90efb13-5a7b-421a-cb48-7527a0f3d825"
      },
      "execution_count": null,
      "outputs": [
        {
          "output_type": "execute_result",
          "data": {
            "text/plain": [
              "(array([3, 5, 6]),)"
            ]
          },
          "metadata": {},
          "execution_count": 44
        }
      ]
    },
    {
      "cell_type": "code",
      "source": [
        "#find the index where the values are even\n",
        "import numpy as np\n",
        "arr = np.array([1, 2, 3, 4, 5, 4, 18,16,5,7,36])\n",
        "np.where(arr%2 == 0)"
      ],
      "metadata": {
        "colab": {
          "base_uri": "https://localhost:8080/"
        },
        "id": "1xz5hP1sMWxn",
        "outputId": "89222e28-bb18-4554-c638-3e1dc27da237"
      },
      "execution_count": null,
      "outputs": [
        {
          "output_type": "execute_result",
          "data": {
            "text/plain": [
              "(array([ 1,  3,  5,  6,  7, 10]),)"
            ]
          },
          "metadata": {},
          "execution_count": 45
        }
      ]
    },
    {
      "cell_type": "code",
      "source": [
        "#find the index where the values are odd\n",
        "import numpy as np\n",
        "arr = np.array([1, 2, 3, 4, 5, 4, 18,16,5,7,36])\n",
        "np.where(arr%2 == 1)"
      ],
      "metadata": {
        "colab": {
          "base_uri": "https://localhost:8080/"
        },
        "id": "VNBiCSvAM2SH",
        "outputId": "ddaf2a7a-a616-4f04-edb5-802c44802940"
      },
      "execution_count": null,
      "outputs": [
        {
          "output_type": "execute_result",
          "data": {
            "text/plain": [
              "(array([0, 2, 4, 8, 9]),)"
            ]
          },
          "metadata": {},
          "execution_count": 46
        }
      ]
    },
    {
      "cell_type": "code",
      "source": [
        "#sorting arrays\n",
        "import numpy as np\n",
        "arr = np.array([1, 2, 3, 4, 5, 4, 18,16,5,7,36])\n",
        "np.sort(arr)"
      ],
      "metadata": {
        "colab": {
          "base_uri": "https://localhost:8080/"
        },
        "id": "zSoOxByYNGNe",
        "outputId": "af6f010b-cafb-4f7f-95af-d5d6827bd3ac"
      },
      "execution_count": null,
      "outputs": [
        {
          "output_type": "execute_result",
          "data": {
            "text/plain": [
              "array([ 1,  2,  3,  4,  4,  5,  5,  7, 16, 18, 36])"
            ]
          },
          "metadata": {},
          "execution_count": 47
        }
      ]
    },
    {
      "cell_type": "code",
      "source": [
        "#sort array of string\n",
        "import numpy as np\n",
        "arr = np.array(['banana', 'cherry', 'apple','grapes'])\n",
        "np.sort(arr)"
      ],
      "metadata": {
        "colab": {
          "base_uri": "https://localhost:8080/"
        },
        "id": "R-PbigqiUb7r",
        "outputId": "76cb5bdd-8ac9-40f3-c5e5-23e6372519f9"
      },
      "execution_count": null,
      "outputs": [
        {
          "output_type": "execute_result",
          "data": {
            "text/plain": [
              "array(['apple', 'banana', 'cherry', 'grapes'], dtype='<U6')"
            ]
          },
          "metadata": {},
          "execution_count": 48
        }
      ]
    },
    {
      "cell_type": "code",
      "source": [
        "#filter array that will return values greater than 35\n",
        "import numpy as np\n",
        "arr =np.array([25,3,5,65,45,82,1,2,00,12,0,122,4,44,5,22,11,55,11,52,445,1,1,1225,44,1212,1])\n",
        "fltrarr = []\n",
        "for i in arr:\n",
        "  if i >35:\n",
        "    fltrarr.append(i)\n",
        "print(fltrarr)"
      ],
      "metadata": {
        "colab": {
          "base_uri": "https://localhost:8080/"
        },
        "id": "jjP1tMAbUxMw",
        "outputId": "11c32fcc-3b44-451b-8ba3-1accc587e41f"
      },
      "execution_count": null,
      "outputs": [
        {
          "output_type": "stream",
          "name": "stdout",
          "text": [
            "[65, 45, 82, 122, 44, 55, 52, 445, 1225, 44, 1212]\n"
          ]
        }
      ]
    },
    {
      "cell_type": "code",
      "source": [
        "#filter array that will return even values only\n",
        "import numpy as np\n",
        "arr =np.array([25,3,5,65,45,82,1,2,00,12,0,122,4,44,5,22,11,55,11,52,445,1,1,1225,44,1212,1])\n",
        "fltrarr = []\n",
        "for i in arr:\n",
        "  if (i%2 == 0):\n",
        "    fltrarr.append(i)\n",
        "print(fltrarr)"
      ],
      "metadata": {
        "colab": {
          "base_uri": "https://localhost:8080/"
        },
        "id": "S0SjxZD4WZJr",
        "outputId": "0a0445a9-d764-48fd-b585-3d2971f66b46"
      },
      "execution_count": null,
      "outputs": [
        {
          "output_type": "stream",
          "name": "stdout",
          "text": [
            "[82, 2, 0, 12, 0, 122, 4, 44, 22, 52, 44, 1212]\n"
          ]
        }
      ]
    },
    {
      "cell_type": "code",
      "source": [
        "#Import library\n",
        "import numpy as np"
      ],
      "metadata": {
        "id": "G8qeXfDaX61M"
      },
      "execution_count": null,
      "outputs": []
    },
    {
      "cell_type": "code",
      "source": [
        "#Create ND array\n",
        "nd_array = np.array([1,2,3,4])\n",
        "print(nd_array)"
      ],
      "metadata": {
        "colab": {
          "base_uri": "https://localhost:8080/"
        },
        "id": "zfz4PT0AZhYk",
        "outputId": "349a48b8-9ddd-4ee5-ed41-299cc38f9227"
      },
      "execution_count": null,
      "outputs": [
        {
          "output_type": "stream",
          "name": "stdout",
          "text": [
            "[1 2 3 4]\n"
          ]
        }
      ]
    },
    {
      "cell_type": "code",
      "source": [
        "#Array with zeros\n",
        "ar_with_zeros = np.zeros((3,3))\n",
        "print(ar_with_zeros)"
      ],
      "metadata": {
        "colab": {
          "base_uri": "https://localhost:8080/"
        },
        "id": "XgztieQBZ1YI",
        "outputId": "c26dbf38-5142-4d46-b0f7-2e09c9e984db"
      },
      "execution_count": null,
      "outputs": [
        {
          "output_type": "stream",
          "name": "stdout",
          "text": [
            "[[0. 0. 0.]\n",
            " [0. 0. 0.]\n",
            " [0. 0. 0.]]\n"
          ]
        }
      ]
    },
    {
      "cell_type": "code",
      "source": [
        "#Array with ones\n",
        "ar_with_ones = np.ones((2,3))\n",
        "print(ar_with_ones)"
      ],
      "metadata": {
        "colab": {
          "base_uri": "https://localhost:8080/"
        },
        "id": "9-YoTz0XaTFE",
        "outputId": "82dd62f9-af51-462d-e2ba-277ce40ab16c"
      },
      "execution_count": null,
      "outputs": [
        {
          "output_type": "stream",
          "name": "stdout",
          "text": [
            "[[1. 1. 1.]\n",
            " [1. 1. 1.]]\n"
          ]
        }
      ]
    },
    {
      "cell_type": "code",
      "source": [
        "#Empy array\n",
        "empty_ar = np.empty((1,2))\n",
        "print(empty_ar)"
      ],
      "metadata": {
        "colab": {
          "base_uri": "https://localhost:8080/"
        },
        "id": "w3OhmjCLaooe",
        "outputId": "fb3357ef-a4c2-4500-85c2-761ab088fda5"
      },
      "execution_count": null,
      "outputs": [
        {
          "output_type": "stream",
          "name": "stdout",
          "text": [
            "[[7.74860419e-304 7.74860419e-304]]\n"
          ]
        }
      ]
    },
    {
      "cell_type": "code",
      "source": [
        "#Array with arrange method\n",
        "#one dimensional array\n",
        "np_arange = np.arange(15)\n",
        "np_arange"
      ],
      "metadata": {
        "colab": {
          "base_uri": "https://localhost:8080/"
        },
        "id": "Awi_ZM37cIyu",
        "outputId": "5eea3b16-b17b-4426-ac83-05e535b87866"
      },
      "execution_count": null,
      "outputs": [
        {
          "output_type": "execute_result",
          "data": {
            "text/plain": [
              "array([ 0,  1,  2,  3,  4,  5,  6,  7,  8,  9, 10, 11, 12, 13, 14])"
            ]
          },
          "metadata": {},
          "execution_count": 26
        }
      ]
    },
    {
      "cell_type": "code",
      "source": [
        "#reshape method to change /create array\n",
        "np_arange.reshape(5,3)"
      ],
      "metadata": {
        "colab": {
          "base_uri": "https://localhost:8080/"
        },
        "id": "Ad2CfZ7LdPER",
        "outputId": "1b7738be-d60f-4502-eaf7-8cd1ea576e30"
      },
      "execution_count": null,
      "outputs": [
        {
          "output_type": "execute_result",
          "data": {
            "text/plain": [
              "array([[ 0,  1,  2],\n",
              "       [ 3,  4,  5],\n",
              "       [ 6,  7,  8],\n",
              "       [ 9, 10, 11],\n",
              "       [12, 13, 14]])"
            ]
          },
          "metadata": {},
          "execution_count": 25
        }
      ]
    },
    {
      "cell_type": "code",
      "source": [],
      "metadata": {
        "id": "y43bHxowL_lE"
      },
      "execution_count": null,
      "outputs": []
    }
  ]
}